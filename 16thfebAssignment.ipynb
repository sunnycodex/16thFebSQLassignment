{
 "cells": [
  {
   "cell_type": "raw",
   "id": "c2710801-f95d-4fce-9605-9e85e78c8bba",
   "metadata": {},
   "source": [
    "1. A database is a structured set of data held in a computer, especially one that is accessible in various ways. It is usually controlled by a database management system (DBMS) that allows users to store, retrieve, modify, and delete data.\n",
    "\n",
    "SQL and NoSQL are two different types of databases. SQL databases are relational databases, while NoSQL databases are non-relational databases.\n",
    "\n",
    "SQL databases are the traditional type of database. They use a structured query language (SQL) to store and retrieve data. SQL databases are organized into tables, which are made up of rows and columns. Each row represents a single record, and each column represents a single field of data. SQL databases are well-suited for storing and managing structured data, such as customer records, product inventory, and financial transactions.\n",
    "\n",
    "NoSQL databases are a newer type of database that are designed to store and manage large amounts of unstructured data. Unstructured data is data that does not fit into a traditional relational database model. For example, social media data, sensor data, and log files are all examples of unstructured data. NoSQL databases offer a variety of data models, including document, key-value, graph, and wide-column stores. Each data model is designed to store and manage a specific type of unstructured data."
   ]
  },
  {
   "cell_type": "raw",
   "id": "ff1986a2-3662-4c8d-bbd4-d07620d8383a",
   "metadata": {},
   "source": [
    "2. A data definition language (DDL) is a computer language used to create and modify the structure of database objects in a database. These database objects include views, schemas, tables, indexes etc. \n",
    "\n",
    "CREATE\n",
    "The CREATE command creates a new table from existing data. The first three arguments it takes are the table's name, the names of its columns and the types of those columns. A user can diversify it by using unique names for each column in a table with multiple columns of the same type, with usages for each combination. In CREATE TABLE, if you start with a comma or space-separated list of column descriptions, the database ignores any commas or spaces it finds and translates them into tabs or new lines respectively on its own. Here's an example:\n",
    "\n",
    "CREATE TABLE 'employee' (\n",
    "'employee_id' int(11) NOT NULL AUTO_INCREMENT,\n",
    "'first_name' varchar(255) NOT NULL,\n",
    "'last_name' varchar(255) NOT NULL,\n",
    "'position' varchar(255) NOT NULL,\n",
    "'salary' decimal(10,2) NOT NULL,\n",
    "'date_of_birth' date NOT NULL,\n",
    "PRIMARY KEY ('employee_id')\n",
    ")\n",
    "\n",
    "ALTER\n",
    "The ALTER command changes the number of rows in a table. You can use it to change the size of defined tables using CREATE TABLE. When you use the ALTER command, you require specifying the existing table and including how many rows to add. The keyword FOR is equivalent to SET, which specifies which particular row value to update.\n",
    "\n",
    "The ALTER command alters a table's structure or size. It's possible to alter the characteristics of a table, such as changing column widths or modifying indexing. These changes aren't permanent and revert when a user restarts the database. Below is a DDL code using the ALTER command:\n",
    "\n",
    "ALTER table employee\n",
    "\n",
    "ADD COLUMN salary DECIMAL(10,2)\n",
    "\n",
    "UPDATE salary SET salary = salary + 1000.00\n",
    "\n",
    "DROP\n",
    "The DROP command removes a table from the database. All rows, indexes and partitions within the table become inaccessible. Single-row deletes also no longer work in this case. DROP is a deletion command which doesn't allow the system to drop any tables. The only tables it drops are system tables, such as the master file, redo/undo tables and control files. DROP is the primary command that removes a structure from a list. The DROP function can also insert or append structures at the end of the list. Below is a DDL code example using the DROP command:\n",
    "\n",
    "DROP TABLE employee;\n",
    "\n",
    "The code deletes the table and all of its data.\n",
    "\n",
    "TRUNCATE\n",
    "The TRUNCATE command allows users to delete rows from a table using a WHERE clause. This can help delete duplicate rows from your tables and prevent data from growing unchecked. The command also truncates an entire table, which leaves the table empty. Below is a DDL code using the TRUNCATE command:\n",
    "\n",
    "TRUNCATE TABLE employee;\n",
    "\n",
    "This code truncates the table employee, meaning that it deletes all the data in the table."
   ]
  },
  {
   "cell_type": "raw",
   "id": "48c96448-7be3-4440-af4b-9cd9ed7ec34c",
   "metadata": {},
   "source": [
    "3.DML is short name of Data Manipulation Language which deals with data manipulation, and includes most common SQL statements such SELECT, INSERT, UPDATE, DELETE etc, and it is used to store, modify, retrieve, delete and update data in database.\n",
    "\n",
    "INSERT – insert data into a table.\n",
    "UPDATE – updates existing data within a table.\n",
    "DELETE – delete all records from a table."
   ]
  },
  {
   "cell_type": "raw",
   "id": "84cbe766-2fe3-4437-b1be-91167051c616",
   "metadata": {},
   "source": [
    "4. **Data Query Language (DQL)** is a part of the base grouping of SQL sub-languages. It is used to retrieve data from the database. DQL statements are used to query the data and information contained in schema objects. The goal of the DQL commands is to return a schema relation based on the query supplied to them.\n",
    "\n",
    "The SELECT statement is used to select data from a database table. It can show columns of the data, as well as calculated columns or data that is not a table column. It can also use a condition to filter the records. Here is an example of how to use SELECT statement in SQL.\n",
    "SELECT column1, column2, ...\n",
    "FROM table_name;\n"
   ]
  },
  {
   "cell_type": "raw",
   "id": "f6a8cb10-62c0-4731-8923-7b0596539065",
   "metadata": {},
   "source": [
    "5. In a relational database, a primary key is a column or group of columns that uniquely identifies each row in a table. A foreign key is a column or group of columns that references the primary key of another table. Primary keys and foreign keys are used to establish relationships between tables and to ensure data integrity.\n",
    "\n",
    "Primary keys\n",
    "A primary key must be unique and cannot contain null values. It is used to uniquely identify each row in a table. Primary keys are often used to create indexes, which can improve the performance of queries that use the primary key.\n",
    "\n",
    "Foreign keys\n",
    "A foreign key is a column or group of columns that references the primary key of another table. Foreign keys are used to establish relationships between tables. For example, a table that stores customer orders might have a foreign key that references the primary key of a table that stores customers. This would allow the orders table to know which customer placed each order."
   ]
  },
  {
   "cell_type": "raw",
   "id": "fc3c21c0-7a91-44d9-91e9-10029e92fadd",
   "metadata": {},
   "source": [
    "6.\n",
    "import mysql.connector\n",
    "\n",
    "# Establish the connection to MySQL\n",
    "conn = mysql.connector.connect(\n",
    "    host='localhost',      # replace with your MySQL server hostname\n",
    "    user='your_username',  # replace with your MySQL username\n",
    "    password='your_password',  # replace with your MySQL password\n",
    "    database='your_database'  # replace with your MySQL database name\n",
    ")\n",
    "\n",
    "# Create a cursor object to interact with the database\n",
    "cursor = conn.cursor()\n",
    "\n",
    "# Execute an SQL query\n",
    "query = \"SELECT * FROM your_table\"  # replace with your SQL query\n",
    "cursor.execute(query)\n",
    "\n",
    "# Fetch the results\n",
    "results = cursor.fetchall()\n",
    "\n",
    "# Process the results\n",
    "for row in results:\n",
    "    print(row)\n",
    "\n",
    "# Close the cursor and the connection\n",
    "cursor.close()\n",
    "conn.close()\n",
    "\n",
    "Explanation of cursor() and execute() methods:\n",
    "\n",
    "cursor(): The cursor() method creates a cursor object that allows you to execute SQL statements and retrieve data from the database. It acts as a control structure that helps in managing the context of a database session.\n",
    "\n",
    "execute(query): The execute() method is used to execute an SQL query passed as a parameter to the method. It is called on the cursor object. The query can be any valid SQL statement, such as SELECT, INSERT, UPDATE, DELETE, etc. After executing the query, the result (if any) can be retrieved using methods like fetchone(), fetchall(), or fetchmany() depending on your needs."
   ]
  },
  {
   "cell_type": "raw",
   "id": "285d2da2-aa6a-4756-a368-da7be8968fab",
   "metadata": {},
   "source": [
    "7.\n",
    "In SQL, the order of execution of clauses in an SQL query is as follows:\n",
    "\n",
    "1. `FROM`: This clause specifies the table or tables from which the data will be retrieved. It identifies the data source for the query.\n",
    "\n",
    "2. `JOIN`: If multiple tables are involved in the query and need to be joined, the `JOIN` clause is used. It specifies how the tables are related to each other.\n",
    "\n",
    "3. `WHERE`: The `WHERE` clause is used to filter the data based on specified conditions. It narrows down the result set by applying conditions to the columns.\n",
    "\n",
    "4. `GROUP BY`: The `GROUP BY` clause is used to group the result set by one or more columns. It is typically used in combination with aggregate functions like `SUM`, `COUNT`, etc.\n",
    "\n",
    "5. `HAVING`: The `HAVING` clause is used to filter the grouped data based on conditions. It is similar to the `WHERE` clause but operates on grouped data rather than individual rows.\n",
    "\n",
    "6. `SELECT`: The `SELECT` clause is used to specify the columns that should be included in the result set. It retrieves the data from the specified columns.\n",
    "\n",
    "7. `DISTINCT`: The `DISTINCT` keyword, when used in the `SELECT` clause, eliminates duplicate values from the result set.\n",
    "\n",
    "8. `ORDER BY`: The `ORDER BY` clause is used to sort the result set based on one or more columns. It arranges the data in ascending or descending order.\n",
    "\n",
    "9. `LIMIT` / `OFFSET`: The `LIMIT` clause is used to limit the number of rows returned in the result set, while the `OFFSET` clause is used to skip a specified number of rows."
   ]
  },
  {
   "cell_type": "code",
   "execution_count": null,
   "id": "c7259642-193b-4e8b-9b9e-4f72c0fb78cd",
   "metadata": {},
   "outputs": [],
   "source": []
  }
 ],
 "metadata": {
  "kernelspec": {
   "display_name": "Python 3 (ipykernel)",
   "language": "python",
   "name": "python3"
  },
  "language_info": {
   "codemirror_mode": {
    "name": "ipython",
    "version": 3
   },
   "file_extension": ".py",
   "mimetype": "text/x-python",
   "name": "python",
   "nbconvert_exporter": "python",
   "pygments_lexer": "ipython3",
   "version": "3.10.8"
  }
 },
 "nbformat": 4,
 "nbformat_minor": 5
}
